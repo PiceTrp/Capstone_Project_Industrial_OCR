{
 "cells": [
  {
   "cell_type": "code",
   "execution_count": 8,
   "id": "258036df-04e8-420e-a093-06530b8d30f1",
   "metadata": {},
   "outputs": [],
   "source": [
    "import numpy as np\n",
    "import matplotlib.pyplot as plt\n",
    "from PIL import Image\n",
    "import cv2\n",
    "\n",
    "import random\n",
    "from PIL import Image, ImageDraw, ImageFont\n",
    "\n",
    "from glob import glob\n",
    "import os\n",
    "import shutil\n",
    "from copy import deepcopy\n",
    "from tqdm.notebook import tqdm"
   ]
  },
  {
   "cell_type": "code",
   "execution_count": 2,
   "id": "cc6ab7c0-87e6-43b9-8b91-99d49532dab2",
   "metadata": {},
   "outputs": [
    {
     "data": {
      "text/plain": [
       "('C:\\\\Users\\\\User\\\\Desktop\\\\Pice\\\\Work\\\\ConnectedTech\\\\UTAC_OCR\\\\Data_Augmentation\\\\pipeline_exp1',\n",
       " ['.ipynb_checkpoints',\n",
       "  'background_images',\n",
       "  'checkpoints',\n",
       "  'font_families',\n",
       "  'generated_chars',\n",
       "  'gen_text.ipynb',\n",
       "  'inference_cyclegan.ipynb',\n",
       "  'mask_created',\n",
       "  'results'])"
      ]
     },
     "execution_count": 2,
     "metadata": {},
     "output_type": "execute_result"
    }
   ],
   "source": [
    "os.getcwd(), os.listdir(os.getcwd())"
   ]
  },
  {
   "cell_type": "code",
   "execution_count": 25,
   "id": "0067e664-ac50-42e4-ae74-d60f5ceae1f0",
   "metadata": {},
   "outputs": [],
   "source": [
    "config = {}\n",
    "WORK_DIR = os.getcwd()\n",
    "\n",
    "# stylized characters creation\n",
    "config[\"fake_image_dir\"] = os.path.join(WORK_DIR, \"gen_font\", \"fake_images\")\n",
    "config[\"mask_image_dir\"] = os.path.join(WORK_DIR, \"gen_font\", \"mask_images\")\n",
    "config[\"mask_created_dir\"] = os.path.join(WORK_DIR, \"gen_font\", \"mask_created\")\n",
    "config[\"mask_created_save_dir\"] = os.path.join(WORK_DIR, \"mask_created\", \"testB\")\n",
    "\n",
    "config[\"generated_chars_dir\"] = os.path.join(WORK_DIR, \"gen_font\", \"BLAHHHHH\")\n",
    "\n",
    "config[\"exp_name\"] = \"font_generation_exp2\"\n",
    "config[\"font_family_path\"] = \"../../Font_Style_Generation/fonts/Unison-Pro-Light.ttf\"\n",
    "config[\"mask_size\"] = 256\n",
    "config[\"font_size\"] = 200\n",
    "config[\"right_padding\"] = 20\n",
    "config[\"bottom_padding\"] = 30\n",
    "config[\"transform_prob\"] = 0.3"
   ]
  },
  {
   "cell_type": "code",
   "execution_count": 17,
   "id": "6856fcbe-4998-49a2-a85f-6f2a6d48c3e3",
   "metadata": {},
   "outputs": [
    {
     "data": {
      "text/plain": [
       "<matplotlib.image.AxesImage at 0x1b98ffcc520>"
      ]
     },
     "execution_count": 17,
     "metadata": {},
     "output_type": "execute_result"
    },
    {
     "data": {
      "image/png": "[encoded data removed]",
      "text/plain": [
       "<Figure size 640x480 with 1 Axes>"
      ]
     },
     "metadata": {},
     "output_type": "display_data"
    }
   ],
   "source": [
    "char = \"8\"\n",
    "mask_w, mask_h = (config[\"mask_size\"], config[\"mask_size\"])\n",
    "image = Image.new(\"RGB\", (mask_w, mask_h), \"black\")\n",
    "font = ImageFont.truetype(config[\"font_family_path\"], config[\"font_size\"])\n",
    "\n",
    "draw = ImageDraw.Draw(image)\n",
    "_, _, w, h = draw.textbbox((0, 0), char, font=font)\n",
    "c_w, c_h = (mask_w-w)/2 - config['right_padding'], (mask_h-h)/2 - config['bottom_padding']\n",
    "draw.text((c_w, c_h), char, fill=\"white\", font=font)  # draw text mask at CENTER\n",
    "\n",
    "image = np.array(image)\n",
    "plt.imshow(image)"
   ]
  },
  {
   "cell_type": "code",
   "execution_count": 12,
   "id": "032f67a9-1e62-4247-a3f7-f9b0d045da39",
   "metadata": {},
   "outputs": [],
   "source": [
    "import sys\n",
    "\n",
    "# to import everything from cyclegan !!\n",
    "sys.path.append(\"../../Background_Removal/pytorch-CycleGAN-and-pix2pix/\")"
   ]
  },
  {
   "cell_type": "code",
   "execution_count": 14,
   "id": "274ad2b7-806f-49d0-b239-eafddccb3227",
   "metadata": {},
   "outputs": [],
   "source": [
    "from options.test_options import TestOptions"
   ]
  },
  {
   "cell_type": "code",
   "execution_count": 16,
   "id": "229eb131-d17c-49e2-bd41-ddba731a22d5",
   "metadata": {},
   "outputs": [],
   "source": [
    "import os\n",
    "from data.base_dataset import BaseDataset, get_transform\n",
    "from data.image_folder import make_dataset\n",
    "from PIL import Image\n",
    "import random\n",
    "# pice\n",
    "import albumentations as A\n",
    "\n",
    "# not from paths, but from image arrays\n",
    "class MyCustomDataset(BaseDataset):\n",
    "    def __init__(self, opt):\n",
    "        \"\"\"Initialize this dataset class.\n",
    "\n",
    "        Parameters:\n",
    "            opt (Option class) -- stores all the experiment flags; needs to be a subclass of BaseOptions\n",
    "        \"\"\"\n",
    "        BaseDataset.__init__(self, opt)\n",
    "        self.A_image_arrays = []\n",
    "        self.B_image_arrays = []\n",
    "        self.A_size = len(self.A_image_arrays)\n",
    "        self.B_size = len(self.B_image_arrays)\n",
    "        \n",
    "        btoA = self.opt.direction == 'BtoA'\n",
    "        input_nc = self.opt.output_nc if btoA else self.opt.input_nc\n",
    "        output_nc = self.opt.input_nc if btoA else self.opt.output_nc\n",
    "        \n",
    "        # pice's implementation\n",
    "        self.albumentation_A = A.Compose([\n",
    "            A.RandomBrightnessContrast(p=0.3),\n",
    "            A.ShiftScaleRotate(shift_limit=0.05, scale_limit=0.05, rotate_limit=5, p=0.3),\n",
    "        ])\n",
    "        self.albumentation_B = A.Compose([\n",
    "            A.ShiftScaleRotate(shift_limit=0.05, scale_limit=0.05, rotate_limit=5, p=0.3),\n",
    "        ])\n",
    "        \n",
    "        self.transform_A = get_transform(self.opt, grayscale=(input_nc == 1), albumentation_transforms=self.albumentation_A, domain=\"A\")\n",
    "        self.transform_B = get_transform(self.opt, grayscale=(output_nc == 1), albumentation_transforms=self.albumentation_B, domain=\"B\")\n",
    "\n",
    "    def __getitem__(self, index):\n",
    "        A_img = self.A_image_arrays[index % self.A_size]  # make sure index is within then range\n",
    "        if self.opt.serial_batches:   # make sure index is within then range\n",
    "            index_B = index % self.B_size\n",
    "        else:   # randomize the index for domain B to avoid fixed pairs.\n",
    "            index_B = random.randint(0, self.B_size - 1)\n",
    "        B_img = self.B_image_arrays[index_B]\n",
    "        \n",
    "        # apply image transformation\n",
    "        A = self.transform_A(A_img)\n",
    "        B = self.transform_B(B_img)\n",
    "\n",
    "        return {'A': A, 'B': B}   #, 'A_paths': A_path, 'B_paths': B_path}\n",
    "\n",
    "    def __len__(self):\n",
    "        return max(self.A_size, self.B_size)"
   ]
  },
  {
   "cell_type": "code",
   "execution_count": null,
   "id": "5e6f7304-dc98-4975-ad32-cf05957aa8cb",
   "metadata": {},
   "outputs": [],
   "source": [
    "os.system(f\"python test.py --dataroot None --direction BtoA --checkpoints_dir ./checkpoints/ --name {config['exp_name']} --results_dir {config['generated_chars_dir']} --preprocess scale_width_and_crop --load_size {config['mask_size']} --crop_size {config['mask_size']} --num_test 100 --model test --no_dropout\")"
   ]
  },
  {
   "cell_type": "code",
   "execution_count": 28,
   "id": "41ca9a64-9cfc-45b5-9686-b972dab6a9a1",
   "metadata": {},
   "outputs": [
    {
     "ename": "CalledProcessError",
     "evalue": "Command 'python test.py --dataroot None --direction BtoA --checkpoints_dir ./checkpoints/ --name font_generation_exp2 --results_dir C:\\Users\\User\\Desktop\\Pice\\Work\\ConnectedTech\\UTAC_OCR\\Data_Augmentation\\pipeline_exp1\\gen_font\\BLAHHHHH --preprocess scale_width_and_crop --load_size 256 --crop_size 256 --num_test 100 --model test --no_dropout' returned non-zero exit status 1.",
     "output_type": "error",
     "traceback": [
      "\u001b[1;31m---------------------------------------------------------------------------\u001b[0m",
      "\u001b[1;31mCalledProcessError\u001b[0m                        Traceback (most recent call last)",
      "Cell \u001b[1;32mIn[28], line 5\u001b[0m\n\u001b[0;32m      1\u001b[0m \u001b[38;5;28;01mimport\u001b[39;00m \u001b[38;5;21;01msubprocess\u001b[39;00m\n\u001b[0;32m      3\u001b[0m command \u001b[38;5;241m=\u001b[39m \u001b[38;5;124mf\u001b[39m\u001b[38;5;124m\"\u001b[39m\u001b[38;5;124mpython test.py --dataroot None --direction BtoA --checkpoints_dir ./checkpoints/ --name \u001b[39m\u001b[38;5;132;01m{\u001b[39;00mconfig[\u001b[38;5;124m'\u001b[39m\u001b[38;5;124mexp_name\u001b[39m\u001b[38;5;124m'\u001b[39m]\u001b[38;5;132;01m}\u001b[39;00m\u001b[38;5;124m --results_dir \u001b[39m\u001b[38;5;132;01m{\u001b[39;00mconfig[\u001b[38;5;124m'\u001b[39m\u001b[38;5;124mgenerated_chars_dir\u001b[39m\u001b[38;5;124m'\u001b[39m]\u001b[38;5;132;01m}\u001b[39;00m\u001b[38;5;124m --preprocess scale_width_and_crop --load_size \u001b[39m\u001b[38;5;132;01m{\u001b[39;00mconfig[\u001b[38;5;124m'\u001b[39m\u001b[38;5;124mmask_size\u001b[39m\u001b[38;5;124m'\u001b[39m]\u001b[38;5;132;01m}\u001b[39;00m\u001b[38;5;124m --crop_size \u001b[39m\u001b[38;5;132;01m{\u001b[39;00mconfig[\u001b[38;5;124m'\u001b[39m\u001b[38;5;124mmask_size\u001b[39m\u001b[38;5;124m'\u001b[39m]\u001b[38;5;132;01m}\u001b[39;00m\u001b[38;5;124m --num_test 100 --model test --no_dropout\u001b[39m\u001b[38;5;124m\"\u001b[39m\n\u001b[1;32m----> 5\u001b[0m result \u001b[38;5;241m=\u001b[39m \u001b[43msubprocess\u001b[49m\u001b[38;5;241;43m.\u001b[39;49m\u001b[43mcheck_output\u001b[49m\u001b[43m(\u001b[49m\u001b[43mcommand\u001b[49m\u001b[43m,\u001b[49m\u001b[43m \u001b[49m\u001b[43mshell\u001b[49m\u001b[38;5;241;43m=\u001b[39;49m\u001b[38;5;28;43;01mTrue\u001b[39;49;00m\u001b[43m,\u001b[49m\u001b[43m \u001b[49m\u001b[43mtext\u001b[49m\u001b[38;5;241;43m=\u001b[39;49m\u001b[38;5;28;43;01mTrue\u001b[39;49;00m\u001b[43m)\u001b[49m\n\u001b[0;32m      6\u001b[0m \u001b[38;5;28mprint\u001b[39m(result)\n",
      "File \u001b[1;32m~\\anaconda3\\envs\\pytorch-CycleGAN-and-pix2pix\\lib\\subprocess.py:415\u001b[0m, in \u001b[0;36mcheck_output\u001b[1;34m(timeout, *popenargs, **kwargs)\u001b[0m\n\u001b[0;32m    412\u001b[0m         empty \u001b[38;5;241m=\u001b[39m \u001b[38;5;124mb\u001b[39m\u001b[38;5;124m'\u001b[39m\u001b[38;5;124m'\u001b[39m\n\u001b[0;32m    413\u001b[0m     kwargs[\u001b[38;5;124m'\u001b[39m\u001b[38;5;124minput\u001b[39m\u001b[38;5;124m'\u001b[39m] \u001b[38;5;241m=\u001b[39m empty\n\u001b[1;32m--> 415\u001b[0m \u001b[38;5;28;01mreturn\u001b[39;00m \u001b[43mrun\u001b[49m\u001b[43m(\u001b[49m\u001b[38;5;241;43m*\u001b[39;49m\u001b[43mpopenargs\u001b[49m\u001b[43m,\u001b[49m\u001b[43m \u001b[49m\u001b[43mstdout\u001b[49m\u001b[38;5;241;43m=\u001b[39;49m\u001b[43mPIPE\u001b[49m\u001b[43m,\u001b[49m\u001b[43m \u001b[49m\u001b[43mtimeout\u001b[49m\u001b[38;5;241;43m=\u001b[39;49m\u001b[43mtimeout\u001b[49m\u001b[43m,\u001b[49m\u001b[43m \u001b[49m\u001b[43mcheck\u001b[49m\u001b[38;5;241;43m=\u001b[39;49m\u001b[38;5;28;43;01mTrue\u001b[39;49;00m\u001b[43m,\u001b[49m\n\u001b[0;32m    416\u001b[0m \u001b[43m           \u001b[49m\u001b[38;5;241;43m*\u001b[39;49m\u001b[38;5;241;43m*\u001b[39;49m\u001b[43mkwargs\u001b[49m\u001b[43m)\u001b[49m\u001b[38;5;241m.\u001b[39mstdout\n",
      "File \u001b[1;32m~\\anaconda3\\envs\\pytorch-CycleGAN-and-pix2pix\\lib\\subprocess.py:516\u001b[0m, in \u001b[0;36mrun\u001b[1;34m(input, capture_output, timeout, check, *popenargs, **kwargs)\u001b[0m\n\u001b[0;32m    514\u001b[0m     retcode \u001b[38;5;241m=\u001b[39m process\u001b[38;5;241m.\u001b[39mpoll()\n\u001b[0;32m    515\u001b[0m     \u001b[38;5;28;01mif\u001b[39;00m check \u001b[38;5;129;01mand\u001b[39;00m retcode:\n\u001b[1;32m--> 516\u001b[0m         \u001b[38;5;28;01mraise\u001b[39;00m CalledProcessError(retcode, process\u001b[38;5;241m.\u001b[39margs,\n\u001b[0;32m    517\u001b[0m                                  output\u001b[38;5;241m=\u001b[39mstdout, stderr\u001b[38;5;241m=\u001b[39mstderr)\n\u001b[0;32m    518\u001b[0m \u001b[38;5;28;01mreturn\u001b[39;00m CompletedProcess(process\u001b[38;5;241m.\u001b[39margs, retcode, stdout, stderr)\n",
      "\u001b[1;31mCalledProcessError\u001b[0m: Command 'python test.py --dataroot None --direction BtoA --checkpoints_dir ./checkpoints/ --name font_generation_exp2 --results_dir C:\\Users\\User\\Desktop\\Pice\\Work\\ConnectedTech\\UTAC_OCR\\Data_Augmentation\\pipeline_exp1\\gen_font\\BLAHHHHH --preprocess scale_width_and_crop --load_size 256 --crop_size 256 --num_test 100 --model test --no_dropout' returned non-zero exit status 1."
     ]
    }
   ],
   "source": [
    "import subprocess\n",
    " \n",
    "command = f\"python test.py --dataroot None --direction BtoA --checkpoints_dir ./checkpoints/ --name {config['exp_name']} --results_dir {config['generated_chars_dir']} --preprocess scale_width_and_crop --load_size {config['mask_size']} --crop_size {config['mask_size']} --num_test 100 --model test --no_dropout\"\n",
    "\n",
    "result = subprocess.check_output(command, shell=True, text=True)\n",
    "print(result)"
   ]
  },
  {
   "cell_type": "code",
   "execution_count": 23,
   "id": "d424fd71-0f46-4149-b2fc-e7dee4b86c8b",
   "metadata": {},
   "outputs": [
    {
     "name": "stderr",
     "output_type": "stream",
     "text": [
      "usage: ipykernel_launcher.py [-h] --dataroot DATAROOT [--name NAME] [--gpu_ids GPU_IDS]\n",
      "                             [--checkpoints_dir CHECKPOINTS_DIR] [--model MODEL] [--input_nc INPUT_NC]\n",
      "                             [--output_nc OUTPUT_NC] [--ngf NGF] [--ndf NDF] [--netD NETD] [--netG NETG]\n",
      "                             [--n_layers_D N_LAYERS_D] [--norm NORM] [--init_type INIT_TYPE] [--init_gain INIT_GAIN]\n",
      "                             [--no_dropout] [--dataset_mode DATASET_MODE] [--direction DIRECTION] [--serial_batches]\n",
      "                             [--num_threads NUM_THREADS] [--batch_size BATCH_SIZE] [--load_size LOAD_SIZE]\n",
      "                             [--crop_size CROP_SIZE] [--max_dataset_size MAX_DATASET_SIZE] [--preprocess PREPROCESS]\n",
      "                             [--no_flip] [--display_winsize DISPLAY_WINSIZE] [--epoch EPOCH] [--load_iter LOAD_ITER]\n",
      "                             [--verbose] [--suffix SUFFIX] [--use_wandb] [--wandb_project_name WANDB_PROJECT_NAME]\n",
      "                             [--results_dir RESULTS_DIR] [--aspect_ratio ASPECT_RATIO] [--phase PHASE] [--eval]\n",
      "                             [--num_test NUM_TEST]\n",
      "ipykernel_launcher.py: error: the following arguments are required: --dataroot\n"
     ]
    },
    {
     "ename": "SystemExit",
     "evalue": "2",
     "output_type": "error",
     "traceback": [
      "An exception has occurred, use %tb to see the full traceback.\n",
      "\u001b[1;31mSystemExit\u001b[0m\u001b[1;31m:\u001b[0m 2\n"
     ]
    }
   ],
   "source": [
    "opt = TestOptions().parse()  # get test options\n",
    "# # pice's part\n",
    "# opt.eval = True\n",
    "# opt.dataroot = \"../../Background_Removal/pytorch-CycleGAN-and-pix2pix/datasets/2401UTAC_jpg_cropped\"\n",
    "\n",
    "# opt.num_threads = 0   # test code only supports num_threads = 0\n",
    "# opt.batch_size = 1    # test code only supports batch_size = 1\n",
    "# opt.serial_batches = True  # disable data shuffling; comment this line if results on randomly chosen images are needed.\n",
    "# opt.no_flip = True    # no flip; comment this line if results on flipped images are needed.\n",
    "# opt.display_id = -1   # no visdom display; the test code saves the results to a HTML file."
   ]
  },
  {
   "cell_type": "code",
   "execution_count": null,
   "id": "cb2f570b-1660-4ddf-863c-7d0b54ff5779",
   "metadata": {},
   "outputs": [],
   "source": [
    "albumentation_B = A.Compose([\n",
    "            A.ShiftScaleRotate(shift_limit=0.05, scale_limit=0.05, rotate_limit=5, p=0.3),\n",
    "        ])\n",
    "transform_B = get_transform(self.opt, grayscale=(output_nc == 1), albumentation_transforms=self.albumentation_B, domain=\"B\")\n",
    "\n",
    "data = {'A': [], 'B': }"
   ]
  },
  {
   "cell_type": "code",
   "execution_count": 15,
   "id": "88d6a26a-161a-4810-b3dc-284df20c0060",
   "metadata": {},
   "outputs": [
    {
     "name": "stderr",
     "output_type": "stream",
     "text": [
      "usage: ipykernel_launcher.py [-h] --dataroot DATAROOT [--name NAME] [--gpu_ids GPU_IDS]\n",
      "                             [--checkpoints_dir CHECKPOINTS_DIR] [--model MODEL] [--input_nc INPUT_NC]\n",
      "                             [--output_nc OUTPUT_NC] [--ngf NGF] [--ndf NDF] [--netD NETD] [--netG NETG]\n",
      "                             [--n_layers_D N_LAYERS_D] [--norm NORM] [--init_type INIT_TYPE] [--init_gain INIT_GAIN]\n",
      "                             [--no_dropout] [--dataset_mode DATASET_MODE] [--direction DIRECTION] [--serial_batches]\n",
      "                             [--num_threads NUM_THREADS] [--batch_size BATCH_SIZE] [--load_size LOAD_SIZE]\n",
      "                             [--crop_size CROP_SIZE] [--max_dataset_size MAX_DATASET_SIZE] [--preprocess PREPROCESS]\n",
      "                             [--no_flip] [--display_winsize DISPLAY_WINSIZE] [--epoch EPOCH] [--load_iter LOAD_ITER]\n",
      "                             [--verbose] [--suffix SUFFIX] [--use_wandb] [--wandb_project_name WANDB_PROJECT_NAME]\n",
      "                             [--results_dir RESULTS_DIR] [--aspect_ratio ASPECT_RATIO] [--phase PHASE] [--eval]\n",
      "                             [--num_test NUM_TEST]\n",
      "ipykernel_launcher.py: error: the following arguments are required: --dataroot\n"
     ]
    },
    {
     "ename": "SystemExit",
     "evalue": "2",
     "output_type": "error",
     "traceback": [
      "An exception has occurred, use %tb to see the full traceback.\n",
      "\u001b[1;31mSystemExit\u001b[0m\u001b[1;31m:\u001b[0m 2\n"
     ]
    },
    {
     "name": "stderr",
     "output_type": "stream",
     "text": [
      "C:\\Users\\User\\anaconda3\\envs\\pytorch-CycleGAN-and-pix2pix\\lib\\site-packages\\IPython\\core\\interactiveshell.py:3516: UserWarning: To exit: use 'exit', 'quit', or Ctrl-D.\n",
      "  warn(\"To exit: use 'exit', 'quit', or Ctrl-D.\", stacklevel=1)\n"
     ]
    }
   ],
   "source": [
    "import os\n",
    "from options.base_options import BaseOptions\n",
    "from options.test_options import TestOptions\n",
    "from data import create_dataset\n",
    "from models import create_model\n",
    "from util.visualizer import save_images\n",
    "from util import html\n",
    "\n",
    "\n",
    "if __name__ == '__main__':\n",
    "    opt = TestOptions().parse()  # get test options\n",
    "    opt.num_threads = 0   # test code only supports num_threads = 0\n",
    "    opt.batch_size = 1    # test code only supports batch_size = 1\n",
    "    opt.serial_batches = True  # disable data shuffling; comment this line if results on randomly chosen images are needed.\n",
    "    opt.no_flip = True    # no flip; comment this line if results on flipped images are needed.\n",
    "    opt.display_id = -1   # no visdom display; the test code saves the results to a HTML file.\n",
    "\n",
    "    # pice's part\n",
    "    opt.eval = True\n",
    "    opt.dataroot = \"\"\n",
    "\n",
    "    # dataset = create_dataset(opt)  # create a dataset given opt.dataset_mode and other options\n",
    "    model = create_model(opt)      # create a model given opt.model and other options\n",
    "    model.setup(opt)               # regular setup: load and print networks; create schedulers\n",
    "\n",
    "    # For [CycleGAN]: It should not affect CycleGAN as CycleGAN uses instancenorm without dropout.\n",
    "    if opt.eval:\n",
    "        model.eval()\n",
    "    # Pice - Predict\n",
    "    model.set_input(data)  # unpack data from data loader\n",
    "    model.test()           # run inference\n",
    "    visuals = model.get_current_visuals()  # get image results"
   ]
  },
  {
   "cell_type": "code",
   "execution_count": null,
   "id": "decd3b18-758f-4abb-9cd3-5d1ba9a0fbfc",
   "metadata": {},
   "outputs": [],
   "source": []
  }
 ],
 "metadata": {
  "kernelspec": {
   "display_name": "pytorch-CycleGAN-and-pix2pix",
   "language": "python",
   "name": "pytorch-cyclegan-and-pix2pix"
  },
  "language_info": {
   "codemirror_mode": {
    "name": "ipython",
    "version": 3
   },
   "file_extension": ".py",
   "mimetype": "text/x-python",
   "name": "python",
   "nbconvert_exporter": "python",
   "pygments_lexer": "ipython3",
   "version": "3.8.19"
  }
 },
 "nbformat": 4,
 "nbformat_minor": 5
}
